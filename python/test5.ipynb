{
 "cells": [
  {
   "cell_type": "code",
   "execution_count": 1,
   "metadata": {},
   "outputs": [],
   "source": [
    "from ai_physicist import Knowledge, struct_collision\n",
    "from ai_physicist import sentence, Objstructure, search_relations"
   ]
  },
  {
   "cell_type": "code",
   "execution_count": 2,
   "metadata": {},
   "outputs": [
    {
     "name": "stdout",
     "output_type": "stream",
     "text": [
      "motion\n",
      "collision\n",
      "motion0\n",
      "oscillation\n"
     ]
    }
   ],
   "source": [
    "KK = Knowledge()\n",
    "KK.list_experiments()"
   ]
  },
  {
   "cell_type": "code",
   "execution_count": 3,
   "metadata": {},
   "outputs": [],
   "source": [
    "standard_sp = Objstructure.make_spring(1.8, 2.2, 6.0, 8.0)\n",
    "standard_sp.random_settings()\n",
    "KK.register_object(\"standard_sp\", standard_sp)"
   ]
  },
  {
   "cell_type": "code",
   "execution_count": 4,
   "metadata": {},
   "outputs": [],
   "source": [
    "exp = sentence.parse(\"[#oscillation (1 -> MassPoint) [2->standard_sp] |- D[posx[1]]/D[posx[1]''] ]\")\n",
    "KK.register_expression(\"m\", exp)\n",
    "exp = sentence.parse(\"(1->MassPoint) |- posx[1]' \")\n",
    "KK.register_expression(\"v\", exp)\n",
    "exp = sentence.parse(\"(1->MassPoint) |- m[1]*v[1]**2/2 \")\n",
    "KK.register_expression(\"e\", exp)"
   ]
  },
  {
   "cell_type": "code",
   "execution_count": 5,
   "metadata": {},
   "outputs": [
    {
     "name": "stdout",
     "output_type": "stream",
     "text": [
      "e (1->MassPoint) |- ((m[1] * (v[1] ** 2)) / 2)\n",
      "m [#oscillation (1->MassPoint) [2->standard_sp] |- D[posx[1]]/D[D^2[posx[1]]/D[t]^2]]\n",
      "v (1->MassPoint) |- D[posx[1]]/D[t]\n"
     ]
    }
   ],
   "source": [
    "KK.list_concepts()"
   ]
  },
  {
   "cell_type": "code",
   "execution_count": 6,
   "metadata": {},
   "outputs": [],
   "source": [
    "s = struct_collision()\n",
    "s.random_settings()"
   ]
  },
  {
   "cell_type": "code",
   "execution_count": 7,
   "metadata": {},
   "outputs": [
    {
     "data": {
      "text/plain": [
       "True"
      ]
     },
     "execution_count": 7,
     "metadata": {},
     "output_type": "execute_result"
    }
   ],
   "source": [
    "data = KK.eval(sentence.parse_exp(\"m[1] * v[1] + m[2] * v[2]\"), s)\n",
    "data.is_conserved()"
   ]
  },
  {
   "cell_type": "code",
   "execution_count": 8,
   "metadata": {},
   "outputs": [
    {
     "data": {
      "text/plain": [
       "True"
      ]
     },
     "execution_count": 8,
     "metadata": {},
     "output_type": "execute_result"
    }
   ],
   "source": [
    "data = KK.eval(sentence.parse_exp(\"e[1] + e[2]\"), s)\n",
    "data.is_conserved()"
   ]
  },
  {
   "cell_type": "code",
   "execution_count": 9,
   "metadata": {},
   "outputs": [
    {
     "data": {
      "text/plain": [
       "{'Clock': (ObjType.Clock, 0),\n",
       " 'MPb': (ObjType.MassPoint, 2),\n",
       " 'MPa': (ObjType.MassPoint, 1)}"
      ]
     },
     "execution_count": 9,
     "metadata": {},
     "output_type": "execute_result"
    }
   ],
   "source": [
    "s.obj_info()"
   ]
  },
  {
   "cell_type": "code",
   "execution_count": 10,
   "metadata": {},
   "outputs": [],
   "source": [
    "from ai_physicist import DATA"
   ]
  },
  {
   "cell_type": "code",
   "execution_count": 11,
   "metadata": {},
   "outputs": [
    {
     "data": {
      "text/plain": [
       "\"{'Clock': (ObjType.Clock, 0), 'MPb': (ObjType.MassPoint, 2), 'MPa': (ObjType.MassPoint, 1)}\""
      ]
     },
     "execution_count": 11,
     "metadata": {},
     "output_type": "execute_result"
    }
   ],
   "source": [
    "str(s.obj_info())"
   ]
  },
  {
   "cell_type": "code",
   "execution_count": 12,
   "metadata": {},
   "outputs": [],
   "source": [
    "ds = s.data_info()"
   ]
  },
  {
   "cell_type": "code",
   "execution_count": 13,
   "metadata": {},
   "outputs": [
    {
     "data": {
      "text/plain": [
       "'[DataStruct] data: e[1], posx[2], e[2], v[2], t[0], m[2], m[1], posx[1], v[1],.'"
      ]
     },
     "execution_count": 13,
     "metadata": {},
     "output_type": "execute_result"
    }
   ],
   "source": [
    "str(ds)"
   ]
  },
  {
   "cell_type": "code",
   "execution_count": 14,
   "metadata": {},
   "outputs": [],
   "source": [
    "res = search_relations(ds)"
   ]
  },
  {
   "cell_type": "code",
   "execution_count": 15,
   "metadata": {},
   "outputs": [
    {
     "name": "stdout",
     "output_type": "stream",
     "text": [
      "(e[2] + e[1])\n"
     ]
    }
   ],
   "source": [
    "for i in res:\n",
    "    print(i[0])"
   ]
  },
  {
   "cell_type": "code",
   "execution_count": 16,
   "metadata": {},
   "outputs": [],
   "source": [
    "posx2 = ds.fetch_data(\"posx\", 2)\n",
    "t = ds.fetch_data(\"t\", 0)"
   ]
  },
  {
   "cell_type": "code",
   "execution_count": 17,
   "metadata": {},
   "outputs": [],
   "source": [
    "res = posx2.__diff__(t)"
   ]
  },
  {
   "cell_type": "code",
   "execution_count": null,
   "metadata": {},
   "outputs": [],
   "source": []
  }
 ],
 "metadata": {
  "kernelspec": {
   "display_name": "aiphysicist",
   "language": "python",
   "name": "python3"
  },
  "language_info": {
   "codemirror_mode": {
    "name": "ipython",
    "version": 3
   },
   "file_extension": ".py",
   "mimetype": "text/x-python",
   "name": "python",
   "nbconvert_exporter": "python",
   "pygments_lexer": "ipython3",
   "version": "3.10.0"
  }
 },
 "nbformat": 4,
 "nbformat_minor": 2
}
