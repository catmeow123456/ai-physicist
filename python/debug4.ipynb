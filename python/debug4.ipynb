{
 "cells": [
  {
   "cell_type": "code",
   "execution_count": 2,
   "metadata": {},
   "outputs": [],
   "source": [
    "import os\n",
    "from main import Theorist\n",
    "from interface import MeasureType\n",
    "from dataplot import plot_datastruct, plot_data\n",
    "os.chdir('/home/fyl/ai-physicist')"
   ]
  },
  {
   "cell_type": "code",
   "execution_count": 3,
   "metadata": {},
   "outputs": [],
   "source": [
    "theorist: Theorist = Theorist.read_from_file('data/a_knowledge.txt', 'data/a_memory.json')"
   ]
  },
  {
   "cell_type": "code",
   "execution_count": 4,
   "metadata": {},
   "outputs": [],
   "source": [
    "exp = theorist.general.fetch_expstruct('oscillation')"
   ]
  },
  {
   "cell_type": "code",
   "execution_count": 5,
   "metadata": {},
   "outputs": [],
   "source": [
    "exp.random_settings()"
   ]
  },
  {
   "cell_type": "code",
   "execution_count": 6,
   "metadata": {},
   "outputs": [
    {
     "name": "stdout",
     "output_type": "stream",
     "text": [
      "[DataStruct] data:C_07[0, 2],C_36[2],C_37[1],C_01[1, 0],C_08[0, 2],C_19[1, 0],C_20[1, 0, 2],posx[1],C_03[1, 0],posl[2],C_04[0, 1],C_22[1, 0],C_38[2],t[0],posr[2],C_02[0, 1],C_12[2],C_05[2, 0],C_06[2, 0],.\n"
     ]
    }
   ],
   "source": [
    "DS = theorist.specific['oscillation'].pick_relevant_exprs()\n",
    "print(DS)"
   ]
  },
  {
   "cell_type": "code",
   "execution_count": 8,
   "metadata": {},
   "outputs": [
    {
     "name": "stdout",
     "output_type": "stream",
     "text": [
      "data: Zero data\n"
     ]
    }
   ],
   "source": [
    "expdata = theorist.general.eval(\"((C_37[1] * C_03[1, 0]) + (C_36[2] * C_38[2]))\", exp)\n",
    "plot_data('data', expdata)"
   ]
  },
  {
   "cell_type": "code",
   "execution_count": null,
   "metadata": {},
   "outputs": [],
   "source": []
  }
 ],
 "metadata": {
  "kernelspec": {
   "display_name": "aiphysicist",
   "language": "python",
   "name": "python3"
  },
  "language_info": {
   "codemirror_mode": {
    "name": "ipython",
    "version": 3
   },
   "file_extension": ".py",
   "mimetype": "text/x-python",
   "name": "python",
   "nbconvert_exporter": "python",
   "pygments_lexer": "ipython3",
   "version": "3.12.4"
  }
 },
 "nbformat": 4,
 "nbformat_minor": 2
}
