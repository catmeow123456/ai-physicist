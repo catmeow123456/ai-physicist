{
 "cells": [
  {
   "cell_type": "markdown",
   "metadata": {},
   "source": [
    "## motion"
   ]
  },
  {
   "cell_type": "code",
   "execution_count": 1,
   "metadata": {},
   "outputs": [],
   "source": [
    "import sympy as sp\n",
    "from diffalg.diffalg import DifferentialRing, diffalg"
   ]
  },
  {
   "cell_type": "code",
   "execution_count": 2,
   "metadata": {},
   "outputs": [],
   "source": [
    "t, mass, x0, v0, a0 = sp.symbols('t mass x0 v0 a0')\n",
    "x = sp.Function('x')(t)\n",
    "xr = sp.Function('xr')(t)\n",
    "ring = DifferentialRing([('lex', [x, xr]),\n",
    "                         ('lex', [x0, v0, a0]),\n",
    "                         ('lex', [mass])])"
   ]
  },
  {
   "cell_type": "code",
   "execution_count": 3,
   "metadata": {},
   "outputs": [],
   "source": [
    "v = sp.Derivative(x, t)\n",
    "a = sp.Derivative(v, t)\n",
    "\n",
    "eqs = [a - a0, v - a*t  - v0, x - a*t**2/2 - v0*t - x0]\n",
    "ideal = diffalg.from_eqs(ring, eqs)"
   ]
  },
  {
   "cell_type": "code",
   "execution_count": 4,
   "metadata": {},
   "outputs": [
    {
     "name": "stdout",
     "output_type": "stream",
     "text": [
      "DifferentialAlgebra:\n",
      "[-a0*t**2 - 2*t*v0 - 2*x0 + 2*x(t)]\n"
     ]
    }
   ],
   "source": [
    "print(ideal)"
   ]
  },
  {
   "cell_type": "code",
   "execution_count": 5,
   "metadata": {},
   "outputs": [
    {
     "data": {
      "text/latex": [
       "$\\displaystyle \\frac{t v_{0}}{2} + x_{0}$"
      ],
      "text/plain": [
       "t*v0/2 + x0"
      ]
     },
     "execution_count": 5,
     "metadata": {},
     "output_type": "execute_result"
    }
   ],
   "source": [
    "ideal.gb[0].reduce(x - v * t / 2)"
   ]
  },
  {
   "cell_type": "markdown",
   "metadata": {},
   "source": [
    "## collision&reduce"
   ]
  },
  {
   "cell_type": "code",
   "execution_count": 6,
   "metadata": {},
   "outputs": [],
   "source": [
    "import sympy as sp\n",
    "from diffalg.diffalg import DifferentialRing, diffalg"
   ]
  },
  {
   "cell_type": "code",
   "execution_count": 7,
   "metadata": {},
   "outputs": [],
   "source": [
    "t, mass1, mass2, P, E = sp.symbols('t mass1 mass2 P0 E0')\n",
    "x1 = sp.Function('x1')(t)\n",
    "x2 = sp.Function('x2')(t)\n",
    "ring = DifferentialRing([('lex', [x1, x2]),\n",
    "                         ('lex', [P, E]),\n",
    "                         ('lex', [mass1, mass2])])"
   ]
  },
  {
   "cell_type": "code",
   "execution_count": 8,
   "metadata": {},
   "outputs": [],
   "source": [
    "# x1, x2 = sp.symbols('x1 x2')\n",
    "v1 = sp.Derivative(x1, t)\n",
    "v2 = sp.Derivative(x2, t)\n",
    "p1 = mass1 * v1\n",
    "p2 = mass2 * v2\n",
    "e1 = mass1 * v1**2 / 2\n",
    "e2 = mass2 * v2**2 / 2\n",
    "eqs = [p1 + p2 - P, e1 + e2 - E]\n",
    "ideal = diffalg.from_eqs(ring, eqs)"
   ]
  },
  {
   "cell_type": "code",
   "execution_count": 9,
   "metadata": {},
   "outputs": [
    {
     "name": "stdout",
     "output_type": "stream",
     "text": [
      "DifferentialAlgebra:\n",
      "[-P0 + mass1*Derivative(x1(t), t) + mass2*Derivative(x2(t), t), -2*E0*mass1 + P0**2 - 2*P0*mass2*Derivative(x2(t), t) + mass1*mass2*Derivative(x2(t), t)**2 + mass2**2*Derivative(x2(t), t)**2]\n",
      "[-P0 + mass1*Derivative(x1(t), t) + mass2*Derivative(x1(t), t), -P0 + mass1*Derivative(x2(t), t) + mass2*Derivative(x2(t), t), -2*E0*mass1 - 2*E0*mass2 + P0**2]\n",
      "[Derivative(x1(t), t), Derivative(x2(t), t), P0, E0]\n",
      "[-2*E0*mass2 + P0**2 + 2*P0*mass2*Derivative(x1(t), t), -2*E0*mass2 - P0**2 + 2*P0*mass2*Derivative(x2(t), t), mass1 + mass2]\n",
      "[Derivative(x1(t), t) - Derivative(x2(t), t), P0, E0, mass1 + mass2]\n",
      "[-P0 + mass1*Derivative(x1(t), t), -2*E0*mass1 + P0**2, mass2]\n",
      "[Derivative(x1(t), t), P0, E0, mass2]\n",
      "[-P0 + mass2*Derivative(x2(t), t), -2*E0*mass2 + P0**2, mass1]\n",
      "[Derivative(x2(t), t), P0, E0, mass1]\n",
      "[P0, E0, mass1, mass2]\n"
     ]
    }
   ],
   "source": [
    "print(ideal)"
   ]
  },
  {
   "cell_type": "code",
   "execution_count": 10,
   "metadata": {},
   "outputs": [
    {
     "data": {
      "text/latex": [
       "$\\displaystyle 0$"
      ],
      "text/plain": [
       "0"
      ]
     },
     "execution_count": 10,
     "metadata": {},
     "output_type": "execute_result"
    }
   ],
   "source": [
    "ideal.gb[0].reduce(sp.Derivative((v1-v2)**2, t))"
   ]
  },
  {
   "cell_type": "code",
   "execution_count": 11,
   "metadata": {},
   "outputs": [
    {
     "data": {
      "text/latex": [
       "$\\displaystyle \\left(\\frac{d}{d t} x_{1}{\\left(t \\right)}\\right)^{2} - 2 \\frac{d}{d t} x_{1}{\\left(t \\right)} \\frac{d}{d t} x_{2}{\\left(t \\right)} + \\left(\\frac{d}{d t} x_{2}{\\left(t \\right)}\\right)^{2}$"
      ],
      "text/plain": [
       "Derivative(x1(t), t)**2 - 2*Derivative(x1(t), t)*Derivative(x2(t), t) + Derivative(x2(t), t)**2"
      ]
     },
     "execution_count": 11,
     "metadata": {},
     "output_type": "execute_result"
    }
   ],
   "source": [
    "ideal.gb[0].reduce((v1-v2)**2)"
   ]
  },
  {
   "cell_type": "code",
   "execution_count": 12,
   "metadata": {},
   "outputs": [
    {
     "data": {
      "text/latex": [
       "$\\displaystyle 2 E_{0} mass_{1} + 2 E_{0} mass_{2} - P_{0}^{2}$"
      ],
      "text/plain": [
       "2*E0*mass1 + 2*E0*mass2 - P0**2"
      ]
     },
     "execution_count": 12,
     "metadata": {},
     "output_type": "execute_result"
    }
   ],
   "source": [
    "ideal.gb[0].reduce((v1-v2)**2 * mass1 * mass2)"
   ]
  },
  {
   "cell_type": "code",
   "execution_count": 13,
   "metadata": {},
   "outputs": [
    {
     "data": {
      "text/plain": [
       "True"
      ]
     },
     "execution_count": 13,
     "metadata": {},
     "output_type": "execute_result"
    }
   ],
   "source": [
    "ideal.belongs_to(P**2 - 2*E*(mass1 + mass2) + (v1-v2)**2 * mass1 * mass2)"
   ]
  },
  {
   "cell_type": "code",
   "execution_count": null,
   "metadata": {},
   "outputs": [],
   "source": []
  },
  {
   "cell_type": "markdown",
   "metadata": {},
   "source": [
    "## collision&const_symbols"
   ]
  },
  {
   "cell_type": "code",
   "execution_count": 14,
   "metadata": {},
   "outputs": [],
   "source": [
    "import sympy as sp\n",
    "from diffalg.diffalg import DifferentialRing, diffalg"
   ]
  },
  {
   "cell_type": "code",
   "execution_count": 15,
   "metadata": {},
   "outputs": [],
   "source": [
    "t, mass1, mass2, P, E, D = sp.symbols('t mass1 mass2 P0 E0 D0')\n",
    "x1 = sp.Function('x1')(t)\n",
    "x2 = sp.Function('x2')(t)\n",
    "ring = DifferentialRing([('lex', [x1, x2]),\n",
    "                         ('lex', [P, E, D]),\n",
    "                         ('lex', [mass1, mass2])])"
   ]
  },
  {
   "cell_type": "code",
   "execution_count": 16,
   "metadata": {},
   "outputs": [],
   "source": [
    "v1 = sp.Derivative(x1, t)\n",
    "v2 = sp.Derivative(x2, t)\n",
    "p1 = mass1 * v1\n",
    "p2 = mass2 * v2\n",
    "e1 = mass1 * v1**2 / 2\n",
    "e2 = mass2 * v2**2 / 2\n",
    "eqs = [p1 + p2 - P, e1 + e2 - E, (v1-v2)**2 - D]\n",
    "ideal = diffalg.from_eqs(ring, eqs)"
   ]
  },
  {
   "cell_type": "code",
   "execution_count": 17,
   "metadata": {},
   "outputs": [
    {
     "name": "stdout",
     "output_type": "stream",
     "text": [
      "DifferentialAlgebra:\n",
      "[-P0 + mass1*Derivative(x1(t), t) + mass2*Derivative(x2(t), t), -D0*mass1 + 2*E0 - 2*P0*Derivative(x2(t), t) + mass1*Derivative(x2(t), t)**2 + mass2*Derivative(x2(t), t)**2, D0*mass1*mass2 - 2*E0*mass1 - 2*E0*mass2 + P0**2]\n",
      "[mass1*Derivative(x1(t), t) + mass2*Derivative(x2(t), t), -D0*mass1**2 + mass1**2*Derivative(x2(t), t)**2 + 2*mass1*mass2*Derivative(x2(t), t)**2 + mass2**2*Derivative(x2(t), t)**2, P0, -D0*mass1*mass2 + 2*E0*mass1 + 2*E0*mass2]\n",
      "[-P0 + mass1*Derivative(x1(t), t) + mass2*Derivative(x1(t), t), -P0 + mass1*Derivative(x2(t), t) + mass2*Derivative(x2(t), t), -2*E0*mass1 - 2*E0*mass2 + P0**2, D0]\n",
      "[Derivative(x1(t), t), Derivative(x2(t), t), P0, E0, D0]\n",
      "[D0*P0*mass2 + 2*D0*mass2**2*Derivative(x1(t), t) - 2*E0*P0, -D0*P0*mass2 + 2*D0*mass2**2*Derivative(x2(t), t) - 2*E0*P0, -D0*mass2**2 + P0**2, mass1 + mass2]\n",
      "[Derivative(x1(t), t) - Derivative(x2(t), t), P0, E0, D0, mass1 + mass2]\n",
      "[-D0*mass2 + 2*E0 - 2*P0*Derivative(x1(t), t) + mass2*Derivative(x1(t), t)**2, -P0 + mass2*Derivative(x2(t), t), -2*E0*mass2 + P0**2, mass1]\n",
      "[-D0 + Derivative(x1(t), t)**2, Derivative(x2(t), t), P0, E0, mass1]\n",
      "[-D0 + Derivative(x1(t), t)**2 - 2*Derivative(x1(t), t)*Derivative(x2(t), t) + Derivative(x2(t), t)**2, P0, E0, mass1, mass2]\n"
     ]
    }
   ],
   "source": [
    "print(ideal)"
   ]
  },
  {
   "cell_type": "code",
   "execution_count": 18,
   "metadata": {},
   "outputs": [
    {
     "data": {
      "text/plain": [
       "'DifferentialRing(blocks = [lex[x1,x2], lex[P0,E0,D0], lex[mass1,mass2]], derivations = [t])'"
      ]
     },
     "execution_count": 18,
     "metadata": {},
     "output_type": "execute_result"
    }
   ],
   "source": [
    "ideal.ring.ring_to_maple()"
   ]
  },
  {
   "cell_type": "code",
   "execution_count": 19,
   "metadata": {},
   "outputs": [
    {
     "data": {
      "text/latex": [
       "$\\displaystyle D_{0} mass_{1} mass_{2} - 2 E_{0} mass_{1} - 2 E_{0} mass_{2} + P_{0}^{2}$"
      ],
      "text/plain": [
       "D0*mass1*mass2 - 2*E0*mass1 - 2*E0*mass2 + P0**2"
      ]
     },
     "execution_count": 19,
     "metadata": {},
     "output_type": "execute_result"
    }
   ],
   "source": [
    "ideal.gb[0].gb[-1]"
   ]
  },
  {
   "cell_type": "code",
   "execution_count": 20,
   "metadata": {},
   "outputs": [
    {
     "data": {
      "text/latex": [
       "$\\displaystyle - D_{0} mass_{1} + 2 E_{0} - 2 P_{0} \\frac{d}{d t} x_{2}{\\left(t \\right)} + mass_{1} \\left(\\frac{d}{d t} x_{2}{\\left(t \\right)}\\right)^{2} + mass_{2} \\left(\\frac{d}{d t} x_{2}{\\left(t \\right)}\\right)^{2}$"
      ],
      "text/plain": [
       "-D0*mass1 + 2*E0 - 2*P0*Derivative(x2(t), t) + mass1*Derivative(x2(t), t)**2 + mass2*Derivative(x2(t), t)**2"
      ]
     },
     "execution_count": 20,
     "metadata": {},
     "output_type": "execute_result"
    }
   ],
   "source": [
    "ideal.gb[0].gb[-2]"
   ]
  },
  {
   "cell_type": "markdown",
   "metadata": {},
   "source": [
    "## Oscillation"
   ]
  },
  {
   "cell_type": "code",
   "execution_count": 21,
   "metadata": {},
   "outputs": [],
   "source": [
    "import sympy as sp\n",
    "from diffalg.diffalg import DifferentialRing, diffalg"
   ]
  },
  {
   "cell_type": "code",
   "execution_count": 22,
   "metadata": {},
   "outputs": [],
   "source": [
    "input = sp.sympify('Derivative(MP2_s1, t)/MP1_s1')"
   ]
  },
  {
   "cell_type": "code",
   "execution_count": 23,
   "metadata": {},
   "outputs": [],
   "source": [
    "trans_dict = {sp.sympify('MP2_s1'): sp.sympify('MP2_1'), sp.sympify('MP1_s1'): sp.sympify('MP1_1')}"
   ]
  },
  {
   "cell_type": "code",
   "execution_count": 24,
   "metadata": {},
   "outputs": [
    {
     "data": {
      "text/latex": [
       "$\\displaystyle \\frac{\\frac{d}{d t} MP_{2 1}}{MP_{1 1}}$"
      ],
      "text/plain": [
       "Derivative(MP2_1, t)/MP1_1"
      ]
     },
     "execution_count": 24,
     "metadata": {},
     "output_type": "execute_result"
    }
   ],
   "source": [
    "input.subs(trans_dict)"
   ]
  },
  {
   "cell_type": "code",
   "execution_count": 25,
   "metadata": {},
   "outputs": [],
   "source": [
    "t, mass, L, xl , C1, C2 = sp.symbols('t mass L xl C1 C2')\n",
    "x = sp.Function('x')(t)\n",
    "xr = sp.Function('xr')(t)\n",
    "ring = DifferentialRing([('lex', [x, xr]),\n",
    "                         ('lex', [C1, C2]),\n",
    "                         ('lex', [mass, L, xl])])\n",
    "v = sp.Derivative(x, t)\n",
    "vr = sp.Derivative(xr, t)\n",
    "a = sp.Derivative(v, t)\n",
    "b = sp.Derivative(a, t)\n",
    "p = mass * v\n",
    "eqs = [x-xr, C1*vr - b, C2 - v**2 + a*xr - a*xl - a*L]\n",
    "ideal = diffalg.from_eqs(ring, eqs, ineqs=[t, mass, L, xl , C1, C2, x, xr])"
   ]
  },
  {
   "cell_type": "code",
   "execution_count": 26,
   "metadata": {},
   "outputs": [],
   "source": [
    "gb = ideal.gb[0].gb"
   ]
  },
  {
   "cell_type": "code",
   "execution_count": 27,
   "metadata": {},
   "outputs": [],
   "source": [
    "def compact_transform0(eq_input):\n",
    "    exprs = eq_input.as_ordered_terms()\n",
    "    # get intrinsic exprs (name+id)\n",
    "    factor_exprs = {}\n",
    "    for expr in exprs:\n",
    "        symbols = expr.free_symbols\n",
    "        for symbol in symbols:\n",
    "            quotient = sp.reduced(eq_input, [symbol])[0][0]\n",
    "            if symbol not in quotient.free_symbols and len(quotient.as_ordered_terms()) > 1:\n",
    "                factor_exprs[symbol] = len(quotient.as_ordered_terms())\n",
    "    factors = sorted(list(factor_exprs.keys()), key=lambda x: factor_exprs[x], reverse=True)\n",
    "    return sp.collect(eq_input, factors)"
   ]
  },
  {
   "cell_type": "code",
   "execution_count": 28,
   "metadata": {},
   "outputs": [],
   "source": [
    "eq_input = gb[0]\n",
    "exprs = eq_input.as_ordered_terms()\n",
    "# get intrinsic exprs (name+id)\n",
    "factor_exprs = {}\n",
    "for expr in exprs:\n",
    "    symbols = expr.free_symbols\n",
    "    for symbol in symbols:\n",
    "        quotient = sp.reduced(eq_input, [symbol])[0][0]\n",
    "        if symbol not in quotient.free_symbols and len(quotient.as_ordered_terms()) > 1:\n",
    "            factor_exprs[symbol] = len(quotient.as_ordered_terms())\n",
    "factors = sorted(list(factor_exprs.keys()), key=lambda x: factor_exprs[x], reverse=True)"
   ]
  },
  {
   "cell_type": "code",
   "execution_count": 29,
   "metadata": {},
   "outputs": [
    {
     "data": {
      "text/plain": [
       "[C1]"
      ]
     },
     "execution_count": 29,
     "metadata": {},
     "output_type": "execute_result"
    }
   ],
   "source": [
    "factors"
   ]
  },
  {
   "cell_type": "code",
   "execution_count": 30,
   "metadata": {},
   "outputs": [],
   "source": [
    "eq = compact_transform0(gb[0])"
   ]
  },
  {
   "cell_type": "code",
   "execution_count": 31,
   "metadata": {},
   "outputs": [
    {
     "data": {
      "text/latex": [
       "$\\displaystyle C_{1} \\left(- L^{2} - 2 L xl + 2 L \\operatorname{xr}{\\left(t \\right)} - xl^{2} + 2 xl \\operatorname{xr}{\\left(t \\right)} - \\operatorname{xr}^{2}{\\left(t \\right)}\\right) - C_{2} + \\left(\\frac{d}{d t} \\operatorname{xr}{\\left(t \\right)}\\right)^{2}$"
      ],
      "text/plain": [
       "C1*(-L**2 - 2*L*xl + 2*L*xr(t) - xl**2 + 2*xl*xr(t) - xr(t)**2) - C2 + Derivative(xr(t), t)**2"
      ]
     },
     "execution_count": 31,
     "metadata": {},
     "output_type": "execute_result"
    }
   ],
   "source": [
    "eq"
   ]
  },
  {
   "cell_type": "code",
   "execution_count": 32,
   "metadata": {},
   "outputs": [
    {
     "data": {
      "text/latex": [
       "$\\displaystyle - C_{1} \\left(L + xl - \\operatorname{xr}{\\left(t \\right)}\\right)^{2} - C_{2} + \\left(\\frac{d}{d t} \\operatorname{xr}{\\left(t \\right)}\\right)^{2}$"
      ],
      "text/plain": [
       "-C1*(L + xl - xr(t))**2 - C2 + Derivative(xr(t), t)**2"
      ]
     },
     "execution_count": 32,
     "metadata": {},
     "output_type": "execute_result"
    }
   ],
   "source": [
    "sp.Add(*[sp.factor(term) for term in eq.as_ordered_terms()])"
   ]
  },
  {
   "cell_type": "markdown",
   "metadata": {},
   "source": [
    "## collision&onebyone"
   ]
  },
  {
   "cell_type": "code",
   "execution_count": 33,
   "metadata": {},
   "outputs": [],
   "source": [
    "import sympy as sp\n",
    "from diffalg.diffalg import DifferentialRing, diffalg"
   ]
  },
  {
   "cell_type": "code",
   "execution_count": 34,
   "metadata": {},
   "outputs": [],
   "source": [
    "t, mass1, mass2, P, E, D = sp.symbols('t mass1 mass2 P0 E0 D0')\n",
    "x1 = sp.Function('x1')(t)\n",
    "x2 = sp.Function('x2')(t)\n",
    "ring = DifferentialRing([('lex', [x1, x2]),\n",
    "                         ('lex', [P, E, D]),\n",
    "                         ('lex', [mass1, mass2])])"
   ]
  },
  {
   "cell_type": "code",
   "execution_count": 35,
   "metadata": {},
   "outputs": [],
   "source": [
    "v1 = sp.Derivative(x1, t)\n",
    "v2 = sp.Derivative(x2, t)\n",
    "p1 = mass1 * v1\n",
    "p2 = mass2 * v2\n",
    "e1 = mass1 * v1**2 / 2\n",
    "e2 = mass2 * v2**2 / 2"
   ]
  },
  {
   "cell_type": "code",
   "execution_count": 36,
   "metadata": {},
   "outputs": [],
   "source": [
    "eqs = [p1 + p2 - P, e1 + e2 - E, (v1-v2)**2 - D]\n",
    "ideal = diffalg(ring)"
   ]
  },
  {
   "cell_type": "code",
   "execution_count": 37,
   "metadata": {},
   "outputs": [
    {
     "name": "stdout",
     "output_type": "stream",
     "text": [
      "DifferentialAlgebra:\n",
      "[-P0 + mass1*Derivative(x1(t), t) + mass2*Derivative(x2(t), t)]\n",
      "[-P0 + mass2*Derivative(x2(t), t), mass1]\n",
      "[P0, mass1, mass2]\n"
     ]
    }
   ],
   "source": [
    "ideal = ideal.insert_new_eq(eqs[0])\n",
    "print(ideal)"
   ]
  },
  {
   "cell_type": "code",
   "execution_count": 38,
   "metadata": {},
   "outputs": [
    {
     "name": "stdout",
     "output_type": "stream",
     "text": [
      "DifferentialAlgebra:\n",
      "[-P0 + mass1*Derivative(x1(t), t) + mass2*Derivative(x2(t), t)]\n"
     ]
    }
   ],
   "source": [
    "ideal = ideal.insert_new_ineqs(mass1)\n",
    "print(ideal)"
   ]
  },
  {
   "cell_type": "code",
   "execution_count": 39,
   "metadata": {},
   "outputs": [
    {
     "name": "stdout",
     "output_type": "stream",
     "text": [
      "DifferentialAlgebra:\n",
      "[-P0 + mass1*Derivative(x1(t), t) + mass2*Derivative(x2(t), t), -2*E0*mass1 + P0**2 - 2*P0*mass2*Derivative(x2(t), t) + mass1*mass2*Derivative(x2(t), t)**2 + mass2**2*Derivative(x2(t), t)**2]\n",
      "[-P0 + mass1*Derivative(x1(t), t) + mass2*Derivative(x1(t), t), -P0 + mass1*Derivative(x2(t), t) + mass2*Derivative(x2(t), t), -2*E0*mass1 - 2*E0*mass2 + P0**2]\n",
      "[Derivative(x1(t), t), Derivative(x2(t), t), P0, E0]\n",
      "[-2*E0*mass2 + P0**2 + 2*P0*mass2*Derivative(x1(t), t), -2*E0*mass2 - P0**2 + 2*P0*mass2*Derivative(x2(t), t), mass1 + mass2]\n",
      "[Derivative(x1(t), t) - Derivative(x2(t), t), P0, E0, mass1 + mass2]\n",
      "[-P0 + mass1*Derivative(x1(t), t), -2*E0*mass1 + P0**2, mass2]\n",
      "[Derivative(x1(t), t), P0, E0, mass2]\n"
     ]
    }
   ],
   "source": [
    "ideal = ideal.insert_new_eq(eqs[1])\n",
    "print(ideal)"
   ]
  },
  {
   "cell_type": "code",
   "execution_count": 40,
   "metadata": {},
   "outputs": [
    {
     "name": "stdout",
     "output_type": "stream",
     "text": [
      "DifferentialAlgebra:\n",
      "[-P0 + mass1*Derivative(x1(t), t) + mass2*Derivative(x2(t), t), -2*E0*mass1 + P0**2 - 2*P0*mass2*Derivative(x2(t), t) + mass1*mass2*Derivative(x2(t), t)**2 + mass2**2*Derivative(x2(t), t)**2]\n",
      "[-P0 + mass1*Derivative(x1(t), t) + mass2*Derivative(x1(t), t), -P0 + mass1*Derivative(x2(t), t) + mass2*Derivative(x2(t), t), -2*E0*mass1 - 2*E0*mass2 + P0**2]\n"
     ]
    }
   ],
   "source": [
    "ideal = ideal.insert_new_ineqs(mass2)\n",
    "ideal = ideal.insert_new_ineqs(mass1 + mass2)\n",
    "ideal = ideal.insert_new_ineqs(P)\n",
    "print(ideal)"
   ]
  },
  {
   "cell_type": "code",
   "execution_count": 41,
   "metadata": {},
   "outputs": [
    {
     "name": "stdout",
     "output_type": "stream",
     "text": [
      "DifferentialAlgebra:\n",
      "[-P0 + mass1*Derivative(x1(t), t) + mass2*Derivative(x2(t), t), -D0*mass1 + 2*E0 - 2*P0*Derivative(x2(t), t) + mass1*Derivative(x2(t), t)**2 + mass2*Derivative(x2(t), t)**2, D0*mass1*mass2 - 2*E0*mass1 - 2*E0*mass2 + P0**2]\n",
      "[-P0 + mass1*Derivative(x1(t), t) + mass2*Derivative(x1(t), t), -P0 + mass1*Derivative(x2(t), t) + mass2*Derivative(x2(t), t), -2*E0*mass1 - 2*E0*mass2 + P0**2, D0]\n"
     ]
    }
   ],
   "source": [
    "ideal = ideal.insert_new_eq(eqs[2])\n",
    "print(ideal)"
   ]
  },
  {
   "cell_type": "code",
   "execution_count": 42,
   "metadata": {},
   "outputs": [
    {
     "name": "stdout",
     "output_type": "stream",
     "text": [
      "DifferentialAlgebra:\n",
      "[-P0 + mass1*Derivative(x1(t), t) + mass2*Derivative(x2(t), t), -D0*mass1 + 2*E0 - 2*P0*Derivative(x2(t), t) + mass1*Derivative(x2(t), t)**2 + mass2*Derivative(x2(t), t)**2, D0*mass1*mass2 - 2*E0*mass1 - 2*E0*mass2 + P0**2]\n"
     ]
    }
   ],
   "source": [
    "ideal = ideal.insert_new_ineqs(D)\n",
    "print(ideal)"
   ]
  },
  {
   "cell_type": "code",
   "execution_count": 43,
   "metadata": {},
   "outputs": [],
   "source": [
    "newideal = ideal.insert_new_eq(D * mass1 * mass2 - 2 * E * mass1 - 2 * E * mass2 + P**2)"
   ]
  },
  {
   "cell_type": "code",
   "execution_count": 44,
   "metadata": {},
   "outputs": [
    {
     "name": "stdout",
     "output_type": "stream",
     "text": [
      "DifferentialAlgebra:\n",
      "[-P0 + mass1*Derivative(x1(t), t) + mass2*Derivative(x2(t), t), -D0*mass1 + 2*E0 - 2*P0*Derivative(x2(t), t) + mass1*Derivative(x2(t), t)**2 + mass2*Derivative(x2(t), t)**2, D0*mass1*mass2 - 2*E0*mass1 - 2*E0*mass2 + P0**2]\n"
     ]
    }
   ],
   "source": [
    "print(newideal)"
   ]
  },
  {
   "cell_type": "code",
   "execution_count": null,
   "metadata": {},
   "outputs": [],
   "source": []
  }
 ],
 "metadata": {
  "kernelspec": {
   "display_name": "Python 3",
   "language": "python",
   "name": "python3"
  },
  "language_info": {
   "codemirror_mode": {
    "name": "ipython",
    "version": 3
   },
   "file_extension": ".py",
   "mimetype": "text/x-python",
   "name": "python",
   "nbconvert_exporter": "python",
   "pygments_lexer": "ipython3",
   "version": "3.10.0"
  }
 },
 "nbformat": 4,
 "nbformat_minor": 2
}
