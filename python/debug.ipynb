{
 "cells": [
  {
   "cell_type": "code",
   "execution_count": 1,
   "metadata": {},
   "outputs": [],
   "source": [
    "from ai_physicist import Knowledge, struct_collision\n",
    "from ai_physicist import sentence, Objstructure, search_relations\n",
    "KK = Knowledge()\n",
    "KK.list_experiments()\n",
    "\n",
    "standard_sp = Objstructure.make_spring(1.8, 2.2, 6.0, 8.0)\n",
    "standard_sp.random_settings()\n",
    "KK.register_object(\"standard_sp\", standard_sp)\n",
    "exp = sentence.parse(\"[#oscillation (1 -> MassPoint) [2->standard_sp] |- D[posx[1]]/D[posx[1]''] ]\")\n",
    "KK.register_expression(\"m\", exp)\n",
    "exp = sentence.parse(\"(1->MassPoint) |- posx[1]' \")\n",
    "KK.register_expression(\"v\", exp)"
   ]
  },
  {
   "cell_type": "code",
   "execution_count": 2,
   "metadata": {},
   "outputs": [],
   "source": [
    "exp = sentence.parse(\"(1->MassPoint) |- v[1]**2/2 \")"
   ]
  },
  {
   "cell_type": "code",
   "execution_count": 6,
   "metadata": {},
   "outputs": [],
   "source": [
    "kv = KK.eval_exp_keyvaluehashed(sentence.parse_exp(\"v[1]**2\"))"
   ]
  },
  {
   "cell_type": "code",
   "execution_count": 8,
   "metadata": {},
   "outputs": [
    {
     "data": {
      "text/plain": [
       "False"
      ]
     },
     "execution_count": 8,
     "metadata": {},
     "output_type": "execute_result"
    }
   ],
   "source": [
    "kv.is_none"
   ]
  },
  {
   "cell_type": "code",
   "execution_count": null,
   "metadata": {},
   "outputs": [],
   "source": []
  }
 ],
 "metadata": {
  "kernelspec": {
   "display_name": "aiphysicist",
   "language": "python",
   "name": "python3"
  },
  "language_info": {
   "codemirror_mode": {
    "name": "ipython",
    "version": 3
   },
   "file_extension": ".py",
   "mimetype": "text/x-python",
   "name": "python",
   "nbconvert_exporter": "python",
   "pygments_lexer": "ipython3",
   "version": "3.10.0"
  }
 },
 "nbformat": 4,
 "nbformat_minor": 2
}
