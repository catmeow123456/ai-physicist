{
 "cells": [
  {
   "cell_type": "code",
   "execution_count": 1,
   "metadata": {},
   "outputs": [
    {
     "data": {
      "text/plain": [
       "True"
      ]
     },
     "execution_count": 1,
     "metadata": {},
     "output_type": "execute_result"
    }
   ],
   "source": [
    "from ai_physicist import Knowledge, struct_collision\n",
    "from ai_physicist import Expression, Exp, Intrinsic, Objstructure, search_relations\n",
    "KK = Knowledge()\n",
    "KK.list_experiments()\n",
    "\n",
    "standard_sp = Objstructure.make_spring(1.8, 2.2, 6.0, 8.0)\n",
    "standard_sp.random_settings()\n",
    "KK.register_object(\"standard_sp\", standard_sp)\n",
    "exp = Expression(\"[#oscillation (1 -> MassPoint) [2->standard_sp] |- D[posx[1]]/D[posx[1]''] ]\")\n",
    "KK.register_expression(\"m\", exp)\n",
    "exp = Expression(\"(1->MassPoint) |- posx[1]' \")\n",
    "KK.register_expression(\"v\", exp)"
   ]
  },
  {
   "cell_type": "code",
   "execution_count": 2,
   "metadata": {},
   "outputs": [],
   "source": [
    "exp = Expression(\"(1->MassPoint) |- v[1]**2/2 \")"
   ]
  },
  {
   "cell_type": "code",
   "execution_count": 3,
   "metadata": {},
   "outputs": [],
   "source": [
    "kv = KK.eval_exp_keyvaluehashed(Exp(\"m[1]*v[1]**2\"))"
   ]
  },
  {
   "cell_type": "code",
   "execution_count": 4,
   "metadata": {},
   "outputs": [
    {
     "data": {
      "text/plain": [
       "[20987651, 79683428, 72619621, 79514108, 87744870, 73660332]"
      ]
     },
     "execution_count": 4,
     "metadata": {},
     "output_type": "execute_result"
    }
   ],
   "source": [
    "kv.data"
   ]
  },
  {
   "cell_type": "code",
   "execution_count": 5,
   "metadata": {},
   "outputs": [],
   "source": [
    "from sympy import sympify"
   ]
  },
  {
   "cell_type": "code",
   "execution_count": 6,
   "metadata": {},
   "outputs": [
    {
     "data": {
      "text/latex": [
       "$\\displaystyle m_{1} \\left(\\frac{d^{2}}{d t_{0}^{2}} x_{1 2}{\\left(t_{0} \\right)}\\right)^{2}$"
      ],
      "text/plain": [
       "m_1*Derivative(x_1_2(t_0), (t_0, 2))**2"
      ]
     },
     "execution_count": 6,
     "metadata": {},
     "output_type": "execute_result"
    }
   ],
   "source": [
    "sympify(KK.parse_exp_to_sympy_str(Exp(\"m[1]*x[1,2]''**2\"), \"t_0\"))"
   ]
  },
  {
   "cell_type": "code",
   "execution_count": 7,
   "metadata": {},
   "outputs": [],
   "source": [
    "from main import Theorist\n",
    "\n",
    "theorist = Theorist()"
   ]
  },
  {
   "cell_type": "code",
   "execution_count": 8,
   "metadata": {},
   "outputs": [
    {
     "name": "stdout",
     "output_type": "stream",
     "text": [
      "t[0]\n",
      "posx[1]\n",
      "Found 2 relations\n",
      "\u001b[1mRegistered New Concept: C_01 = (1->MassPoint) (2->Clock) |- D[posx[1]]/D[t[2]]\u001b[0m\n",
      "\u001b[1mRegistered New Concept: C_02 = (1->Clock) (2->MassPoint) |- D[t[1]]/D[posx[2]]\u001b[0m\n",
      "P1 conserved: D[posx[1]]/D[t[0]] = Derivative(posx_1(t_0), t_0)\n"
     ]
    }
   ],
   "source": [
    "theorist.theoretical_analysis(\"motion0\")\n",
    "theorist.specific[\"motion0\"].print_sympy_conclusion()"
   ]
  },
  {
   "cell_type": "code",
   "execution_count": 9,
   "metadata": {},
   "outputs": [
    {
     "name": "stdout",
     "output_type": "stream",
     "text": [
      "C_02[0, 1]\n",
      "posx[1]\n",
      "C_01[1, 0]\n",
      "t[0]\n",
      "Found 3 relations\n",
      "\u001b[1mRegistered New Concept: C_03 = (1->MassPoint) (2->Clock) |- D[C_01[1, 2]]/D[t[2]]\u001b[0m\n",
      "\u001b[1mRegistered New Concept: C_04 = (1->Clock) (2->MassPoint) |- D[t[1]]/D[C_01[2, 1]]\u001b[0m\n"
     ]
    },
    {
     "data": {
      "text/plain": [
       "[('P1', Derivative(posx_1(t_0), (t_0, 2)))]"
      ]
     },
     "execution_count": 9,
     "metadata": {},
     "output_type": "execute_result"
    }
   ],
   "source": [
    "theorist.theoretical_analysis(\"motion\")\n",
    "theorist.specific[\"motion\"].list_sympy_conclusion()"
   ]
  },
  {
   "cell_type": "code",
   "execution_count": 10,
   "metadata": {},
   "outputs": [],
   "source": [
    "intrinsic = Intrinsic(\"[#oscillation (1 -> MassPoint) [2->standard_sp] |- D[posx[1]]/D[posx[1]''] ]\")"
   ]
  },
  {
   "cell_type": "code",
   "execution_count": 11,
   "metadata": {},
   "outputs": [
    {
     "name": "stdout",
     "output_type": "stream",
     "text": [
      "Obj_01\n",
      "\u001b[1mRegistered New Onebody Intrinsic Concept: C_05 = [#oscillation (1->MassPoint) [2->Obj_01] |- D[posx[1]]/D[D^2[posx[1]]/D[t[0]]^2]]\u001b[0m\n",
      "\u001b[1mRegistered New Concept: C_05 = [#oscillation (1->MassPoint) [2->Obj_01] |- D[posx[1]]/D[D^2[posx[1]]/D[t[0]]^2]]\u001b[0m\n"
     ]
    }
   ],
   "source": [
    "standard_sp = Objstructure.make_spring(1.8, 2.2, 6.0, 8.0)\n",
    "standard_sp.random_settings()\n",
    "name = theorist.general.register_object(standard_sp)\n",
    "print(name)\n",
    "intrinsic = Intrinsic(f\"[#oscillation (1 -> MassPoint) [2->{name}] |- D[posx[1]]/D[posx[1]''] ]\")\n",
    "theorist.register_new_intrinsic(\"MassPoint\", intrinsic)"
   ]
  },
  {
   "cell_type": "code",
   "execution_count": 12,
   "metadata": {},
   "outputs": [
    {
     "name": "stdout",
     "output_type": "stream",
     "text": [
      "t[0]\n",
      "C_01[2, 0]\n",
      "C_02[0, 2]\n",
      "C_03[2, 0]\n",
      "C_05[1]\n",
      "posx[1]\n",
      "posx[2]\n",
      "C_02[0, 1]\n",
      "C_03[1, 0]\n",
      "C_04[0, 2]\n",
      "C_01[1, 0]\n",
      "C_04[0, 1]\n",
      "C_05[2]\n",
      "Found 116 relations\n",
      "Found intrinsic relation: (posx[2] / (C_05[2] * posx[2])) with relevant_id = [2]\n",
      "\u001b[1mRegistered New Concept: C_07 = (1->MassPoint) (2->Clock) |- D[posx[1]]/D[(C_01[1, 2] * t[2])]\u001b[0m\n",
      "Found intrinsic relation: (posx[2] / (C_05[1] * posx[2])) with relevant_id = [1]\n",
      "Found intrinsic relation: D[posx[2]]/D[(C_05[1] * posx[2])] with relevant_id = [1]\n",
      "Found intrinsic relation: (C_01[1, 0] / (C_05[2] * C_01[1, 0])) with relevant_id = [2]\n",
      "Found intrinsic relation: (C_01[1, 0] / (C_05[1] * C_01[1, 0])) with relevant_id = [1]\n",
      "Found intrinsic relation: (posx[1] / (C_05[2] * posx[1])) with relevant_id = [2]\n",
      "Found intrinsic relation: (posx[1] / (C_05[1] * posx[1])) with relevant_id = [1]\n",
      "Found intrinsic relation: D[posx[1]]/D[(C_05[1] * posx[1])] with relevant_id = [1]\n",
      "Found intrinsic relation: (C_02[0, 1] / (C_02[0, 1] * C_05[2])) with relevant_id = [2]\n",
      "Found intrinsic relation: (C_02[0, 1] / (C_05[1] * C_02[0, 1])) with relevant_id = [1]\n",
      "\u001b[1mRegistered New Concept: C_18 = (1->Clock) (2->MassPoint) |- D[t[1]]/D[(C_02[1, 2] * posx[2])]\u001b[0m\n",
      "Found intrinsic relation: (t[0] / (t[0] * C_05[2])) with relevant_id = [2]\n",
      "Found intrinsic relation: (t[0] / (C_05[1] * t[0])) with relevant_id = [1]\n",
      "Found intrinsic relation: D[t[0]]/D[(C_05[1] * t[0])] with relevant_id = [1]\n",
      "Found intrinsic relation: (C_01[2, 0] / (C_01[2, 0] * C_05[2])) with relevant_id = [2]\n",
      "Found intrinsic relation: (C_01[2, 0] / (C_05[1] * C_01[2, 0])) with relevant_id = [1]\n",
      "Found intrinsic relation: (C_02[0, 2] / (C_02[0, 2] * C_05[2])) with relevant_id = [2]\n",
      "Found intrinsic relation: (C_02[0, 2] / (C_05[1] * C_02[0, 2])) with relevant_id = [1]\n",
      "\u001b[1mRegistered New Concept: C_27 = (1->MassPoint) (2->Clock) (3->MassPoint) |- D[(C_01[1, 2] * posx[3])]/D[(C_01[3, 2] * posx[1])]\u001b[0m\n",
      "\u001b[1mRegistered New Concept: C_28 = (1->MassPoint) (2->Clock) (3->MassPoint) |- D[(C_01[1, 2] * posx[3])]/D[(C_05[1] * t[2])]\u001b[0m\n",
      "Found intrinsic relation: ((C_05[2] * posx[2]) / posx[2]) with relevant_id = [2]\n",
      "\u001b[1mRegistered New Concept: C_30 = (1->MassPoint) (2->Clock) |- D[(C_05[1] * posx[1])]/D[(C_01[1, 2] * t[2])]\u001b[0m\n",
      "Found intrinsic relation: ((C_05[2] * posx[2]) / (C_05[1] * posx[2])) with relevant_id = [1, 2]\n",
      "Found intrinsic relation: ((C_05[2] * C_01[1, 0]) / C_01[1, 0]) with relevant_id = [2]\n",
      "Found intrinsic relation: ((C_05[2] * C_01[1, 0]) * C_02[0, 1]) with relevant_id = [2]\n",
      "Found intrinsic relation: ((C_05[2] * C_01[1, 0]) / (C_05[1] * C_01[1, 0])) with relevant_id = [1, 2]\n",
      "Found intrinsic relation: ((C_05[2] * posx[1]) / posx[1]) with relevant_id = [2]\n",
      "\u001b[1mRegistered New Concept: C_36 = (1->MassPoint) (2->MassPoint) (3->Clock) |- D[(C_05[1] * posx[2])]/D[(t[3] * C_01[2, 3])]\u001b[0m\n",
      "Found intrinsic relation: ((C_05[2] * posx[1]) / (C_05[1] * posx[1])) with relevant_id = [1, 2]\n",
      "\u001b[1mRegistered New Concept: C_38 = (1->Clock) (2->MassPoint) |- D[(C_02[1, 2] * posx[2])]/D[t[1]]\u001b[0m\n",
      "\u001b[1mRegistered New Concept: C_39 = (1->Clock) (2->MassPoint) (3->MassPoint) |- D[(C_02[1, 2] * posx[2])]/D[(t[1] * C_05[3])]\u001b[0m\n",
      "\u001b[1mRegistered New Concept: C_40 = (1->Clock) (2->MassPoint) (3->MassPoint) |- D[(C_02[1, 2] * posx[2])]/D[(C_02[1, 3] * posx[3])]\u001b[0m\n",
      "Found intrinsic relation: D[(C_02[0, 1] * posx[1])]/D[(C_05[1] * t[0])] with relevant_id = [1]\n",
      "\u001b[1mRegistered New Onebody Intrinsic Concept: C_41 = [#collision (1->MassPoint) |- D[(C_02[0, 1] * posx[1])]/D[(C_05[1] * t[0])]]\u001b[0m\n",
      "\u001b[1mRegistered New Concept: C_41 = [#collision (1->MassPoint) |- D[(C_02[0, 1] * posx[1])]/D[(C_05[1] * t[0])]]\u001b[0m\n",
      "\u001b[1mRegistered New Concept: C_42 = (1->Clock) (2->MassPoint) |- D[(C_02[1, 2] * posx[2])]/D[(C_05[2] * t[1])]\u001b[0m\n",
      "Found intrinsic relation: ((C_02[0, 1] * C_05[2]) * C_01[1, 0]) with relevant_id = [2]\n",
      "Found intrinsic relation: ((C_02[0, 1] * C_05[2]) / C_02[0, 1]) with relevant_id = [2]\n",
      "Found intrinsic relation: ((C_02[0, 1] * C_05[2]) * (C_05[2] * C_01[1, 0])) with relevant_id = [2]\n",
      "Found intrinsic relation: ((C_02[0, 1] * C_05[2]) / (C_05[1] * C_02[0, 1])) with relevant_id = [1, 2]\n",
      "\u001b[1mRegistered New Concept: C_47 = (1->Clock) (2->MassPoint) |- D[(t[1] * C_01[2, 1])]/D[posx[2]]\u001b[0m\n",
      "\u001b[1mRegistered New Concept: C_48 = (1->Clock) (2->MassPoint) (3->MassPoint) |- D[(t[1] * C_01[2, 1])]/D[(C_05[3] * posx[2])]\u001b[0m\n",
      "Found intrinsic relation: D[(t[0] * C_01[1, 0])]/D[(C_05[1] * posx[1])] with relevant_id = [1]\n",
      "\u001b[1mRegistered New Onebody Intrinsic Concept: C_49 = [#collision (1->MassPoint) |- D[(t[0] * C_01[1, 0])]/D[(C_05[1] * posx[1])]]\u001b[0m\n",
      "\u001b[1mRegistered New Concept: C_49 = [#collision (1->MassPoint) |- D[(t[0] * C_01[1, 0])]/D[(C_05[1] * posx[1])]]\u001b[0m\n",
      "\u001b[1mRegistered New Concept: C_50 = (1->Clock) (2->MassPoint) |- D[(t[1] * C_01[2, 1])]/D[(C_05[2] * posx[2])]\u001b[0m\n",
      "Found intrinsic relation: ((t[0] * C_05[2]) / t[0]) with relevant_id = [2]\n",
      "\u001b[1mRegistered New Concept: C_52 = (1->Clock) (2->MassPoint) (3->MassPoint) |- D[(t[1] * C_05[2])]/D[(C_02[1, 3] * posx[3])]\u001b[0m\n",
      "\u001b[1mRegistered New Concept: C_53 = (1->Clock) (2->MassPoint) |- D[(t[1] * C_05[2])]/D[(C_02[1, 2] * posx[2])]\u001b[0m\n",
      "Found intrinsic relation: ((t[0] * C_05[2]) / (C_05[1] * t[0])) with relevant_id = [1, 2]\n",
      "\u001b[1mRegistered New Concept: C_56 = (1->MassPoint) (2->Clock) (3->MassPoint) |- D[(C_01[1, 2] * posx[3])]/D[(C_05[3] * t[2])]\u001b[0m\n",
      "Found intrinsic relation: ((C_01[2, 0] * C_05[2]) / C_01[2, 0]) with relevant_id = [2]\n",
      "Found intrinsic relation: ((C_01[2, 0] * C_05[2]) * C_02[0, 2]) with relevant_id = [2]\n",
      "Found intrinsic relation: ((C_01[2, 0] * C_05[2]) / (C_05[1] * C_01[2, 0])) with relevant_id = [1, 2]\n",
      "Found intrinsic relation: D[(C_01[2, 0] * t[0])]/D[(C_05[1] * posx[2])] with relevant_id = [1]\n",
      "\u001b[1mRegistered New Onebody Intrinsic Concept: C_62 = [#collision (1->MassPoint) |- D[(C_01[2, 0] * t[0])]/D[(C_05[1] * posx[2])]]\u001b[0m\n",
      "\u001b[1mRegistered New Concept: C_62 = [#collision (1->MassPoint) |- D[(C_01[2, 0] * t[0])]/D[(C_05[1] * posx[2])]]\u001b[0m\n",
      "Found intrinsic relation: D[(C_02[0, 2] * posx[2])]/D[(C_05[1] * t[0])] with relevant_id = [1]\n",
      "\u001b[1mRegistered New Onebody Intrinsic Concept: C_67 = [#collision (1->MassPoint) |- D[(C_02[0, 2] * posx[2])]/D[(C_05[1] * t[0])]]\u001b[0m\n",
      "\u001b[1mRegistered New Concept: C_67 = [#collision (1->MassPoint) |- D[(C_02[0, 2] * posx[2])]/D[(C_05[1] * t[0])]]\u001b[0m\n",
      "Found intrinsic relation: ((C_02[0, 2] * C_05[2]) * C_01[2, 0]) with relevant_id = [2]\n",
      "Found intrinsic relation: ((C_02[0, 2] * C_05[2]) / C_02[0, 2]) with relevant_id = [2]\n",
      "Found intrinsic relation: ((C_02[0, 2] * C_05[2]) * (C_01[2, 0] * C_05[2])) with relevant_id = [2]\n",
      "Found intrinsic relation: ((C_02[0, 2] * C_05[2]) / (C_05[1] * C_02[0, 2])) with relevant_id = [1, 2]\n",
      "\u001b[1mRegistered New Concept: C_73 = (1->Clock) (2->MassPoint) (3->MassPoint) |- D[(C_02[1, 2] * t[1])]/D[(C_05[3] * posx[3])]\u001b[0m\n",
      "Found intrinsic relation: ((C_05[1] * posx[2]) / posx[2]) with relevant_id = [1]\n",
      "Found intrinsic relation: D[(C_05[1] * posx[2])]/D[posx[2]] with relevant_id = [1]\n",
      "Found intrinsic relation: ((C_05[1] * posx[2]) / (C_05[2] * posx[2])) with relevant_id = [1, 2]\n",
      "Found intrinsic relation: D[(C_05[1] * posx[2])]/D[(C_01[2, 0] * t[0])] with relevant_id = [1]\n",
      "Found intrinsic relation: ((C_05[1] * C_01[1, 0]) / C_01[1, 0]) with relevant_id = [1]\n",
      "Found intrinsic relation: ((C_05[1] * C_01[1, 0]) * C_02[0, 1]) with relevant_id = [1]\n",
      "Found intrinsic relation: ((C_05[1] * C_01[1, 0]) / (C_05[2] * C_01[1, 0])) with relevant_id = [1, 2]\n",
      "Found intrinsic relation: ((C_05[1] * C_01[1, 0]) * (C_02[0, 1] * C_05[2])) with relevant_id = [1, 2]\n",
      "\u001b[1mRegistered New Concept: C_83 = (1->MassPoint) (2->Clock) (3->MassPoint) |- ((C_05[1] * C_01[1, 2]) + (C_01[3, 2] * C_05[3]))\u001b[0m\n",
      "Found intrinsic relation: ((C_05[1] * posx[1]) / posx[1]) with relevant_id = [1]\n",
      "Found intrinsic relation: D[(C_05[1] * posx[1])]/D[posx[1]] with relevant_id = [1]\n",
      "Found intrinsic relation: ((C_05[1] * posx[1]) / (C_05[2] * posx[1])) with relevant_id = [1, 2]\n",
      "Found intrinsic relation: D[(C_05[1] * posx[1])]/D[(t[0] * C_01[1, 0])] with relevant_id = [1]\n",
      "\u001b[1mRegistered New Concept: C_89 = (1->MassPoint) (2->Clock) (3->MassPoint) |- D[(C_05[1] * posx[1])]/D[(C_02[2, 3] * t[2])]\u001b[0m\n",
      "Found intrinsic relation: ((C_05[1] * C_02[0, 1]) * C_01[1, 0]) with relevant_id = [1]\n",
      "Found intrinsic relation: ((C_05[1] * C_02[0, 1]) / C_02[0, 1]) with relevant_id = [1]\n",
      "Found intrinsic relation: ((C_05[1] * C_02[0, 1]) * (C_05[2] * C_01[1, 0])) with relevant_id = [1, 2]\n",
      "Found intrinsic relation: ((C_05[1] * C_02[0, 1]) / (C_02[0, 1] * C_05[2])) with relevant_id = [1, 2]\n",
      "Found intrinsic relation: ((C_05[1] * C_02[0, 1]) * (C_05[1] * C_01[1, 0])) with relevant_id = [1]\n",
      "Found intrinsic relation: ((C_05[1] * t[0]) / t[0]) with relevant_id = [1]\n",
      "Found intrinsic relation: D[(C_05[1] * t[0])]/D[t[0]] with relevant_id = [1]\n",
      "\u001b[1mRegistered New Concept: C_97 = (1->MassPoint) (2->Clock) (3->MassPoint) |- D[(C_05[1] * t[2])]/D[(C_01[1, 2] * posx[3])]\u001b[0m\n",
      "Found intrinsic relation: D[(C_05[1] * t[0])]/D[(C_02[0, 1] * posx[1])] with relevant_id = [1]\n",
      "Found intrinsic relation: ((C_05[1] * t[0]) / (t[0] * C_05[2])) with relevant_id = [1, 2]\n",
      "\u001b[1mRegistered New Concept: C_101 = (1->MassPoint) (2->Clock) (3->MassPoint) |- D[(C_05[1] * t[2])]/D[(C_01[3, 2] * posx[1])]\u001b[0m\n",
      "Found intrinsic relation: D[(C_05[1] * t[0])]/D[(C_02[0, 2] * posx[2])] with relevant_id = [1]\n",
      "Found intrinsic relation: ((C_05[1] * C_01[2, 0]) / C_01[2, 0]) with relevant_id = [1]\n",
      "Found intrinsic relation: ((C_05[1] * C_01[2, 0]) * C_02[0, 2]) with relevant_id = [1]\n",
      "Found intrinsic relation: ((C_05[1] * C_01[2, 0]) / (C_01[2, 0] * C_05[2])) with relevant_id = [1, 2]\n",
      "Found intrinsic relation: ((C_05[1] * C_01[2, 0]) * (C_02[0, 2] * C_05[2])) with relevant_id = [1, 2]\n",
      "Found intrinsic relation: ((C_05[1] * C_02[0, 2]) * C_01[2, 0]) with relevant_id = [1]\n",
      "Found intrinsic relation: ((C_05[1] * C_02[0, 2]) / C_02[0, 2]) with relevant_id = [1]\n",
      "\u001b[1mRegistered New Concept: C_110 = (1->MassPoint) (2->Clock) (3->MassPoint) |- ((C_05[1] * C_02[2, 3]) + (C_02[2, 1] * C_05[3]))\u001b[0m\n",
      "Found intrinsic relation: ((C_05[1] * C_02[0, 2]) * (C_01[2, 0] * C_05[2])) with relevant_id = [1, 2]\n",
      "Found intrinsic relation: ((C_05[1] * C_02[0, 2]) / (C_02[0, 2] * C_05[2])) with relevant_id = [1, 2]\n",
      "Found intrinsic relation: ((C_05[1] * C_02[0, 2]) * (C_05[1] * C_01[2, 0])) with relevant_id = [1]\n"
     ]
    }
   ],
   "source": [
    "theorist.theoretical_analysis(\"collision\", ver=\"ver2\")"
   ]
  },
  {
   "cell_type": "code",
   "execution_count": 13,
   "metadata": {},
   "outputs": [
    {
     "name": "stdout",
     "output_type": "stream",
     "text": [
      "Derivative(posx_2(t_0), t_0)/Derivative(t_0*Derivative(posx_2(t_0), t_0), t_0)\n",
      "Derivative(posx_1(t_0), t_0)/Derivative(t_0*Derivative(posx_1(t_0), t_0), t_0)\n",
      "1/Derivative(posx_1(t_0)/Derivative(posx_1(t_0), t_0), t_0)\n",
      "1/Derivative(posx_2(t_0)/Derivative(posx_2(t_0), t_0), t_0)\n",
      "Derivative(posx_2(t_0)*Derivative(posx_1(t_0), t_0), t_0)/Derivative(C_05_1*t_0, t_0)\n",
      "Derivative(C_05_2*posx_2(t_0), t_0)/Derivative(t_0*Derivative(posx_2(t_0), t_0), t_0)\n",
      "Derivative(t_0/Derivative(posx_2(t_0), t_0), t_0)/Derivative(C_05_1*posx_1(t_0), t_0)\n",
      "C_05_1*Derivative(posx_1(t_0), t_0) + C_05_2*Derivative(posx_2(t_0), t_0)\n"
     ]
    }
   ],
   "source": [
    "for i in theorist.specific[\"collision\"].list_sympy_conclusion():\n",
    "    print(i[1])"
   ]
  },
  {
   "cell_type": "code",
   "execution_count": null,
   "metadata": {},
   "outputs": [],
   "source": []
  }
 ],
 "metadata": {
  "kernelspec": {
   "display_name": "aiphysicist",
   "language": "python",
   "name": "python3"
  },
  "language_info": {
   "codemirror_mode": {
    "name": "ipython",
    "version": 3
   },
   "file_extension": ".py",
   "mimetype": "text/x-python",
   "name": "python",
   "nbconvert_exporter": "python",
   "pygments_lexer": "ipython3",
   "version": "3.12.4"
  }
 },
 "nbformat": 4,
 "nbformat_minor": 2
}
