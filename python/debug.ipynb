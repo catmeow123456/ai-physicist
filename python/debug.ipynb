{
 "cells": [
  {
   "cell_type": "code",
   "execution_count": 7,
   "metadata": {},
   "outputs": [],
   "source": [
    "from ai_physicist import Knowledge, struct_collision\n",
    "from ai_physicist import sentence, Objstructure, search_relations\n",
    "KK = Knowledge()\n",
    "KK.list_experiments()\n",
    "\n",
    "standard_sp = Objstructure.make_spring(1.8, 2.2, 6.0, 8.0)\n",
    "standard_sp.random_settings()\n",
    "KK.register_object(\"standard_sp\", standard_sp)\n",
    "exp = sentence.parse(\"[#oscillation (1 -> MassPoint) [2->standard_sp] |- D[posx[1]]/D[posx[1]''] ]\")\n",
    "KK.register_expression(\"m\", exp)\n",
    "exp = sentence.parse(\"(1->MassPoint) |- posx[1]' \")\n",
    "KK.register_expression(\"v\", exp)"
   ]
  },
  {
   "cell_type": "code",
   "execution_count": 8,
   "metadata": {},
   "outputs": [],
   "source": [
    "exp = sentence.parse(\"(1->MassPoint) |- v[1]**2/2 \")"
   ]
  },
  {
   "cell_type": "code",
   "execution_count": 9,
   "metadata": {},
   "outputs": [],
   "source": [
    "kv = KK.eval_exp_keyvaluehashed(sentence.parse_exp(\"m[1]*v[1]**2\"))"
   ]
  },
  {
   "cell_type": "code",
   "execution_count": 10,
   "metadata": {},
   "outputs": [
    {
     "data": {
      "text/plain": [
       "False"
      ]
     },
     "execution_count": 10,
     "metadata": {},
     "output_type": "execute_result"
    }
   ],
   "source": [
    "kv.is_none"
   ]
  },
  {
   "cell_type": "code",
   "execution_count": 11,
   "metadata": {},
   "outputs": [],
   "source": [
    "from sympy import sympify"
   ]
  },
  {
   "cell_type": "code",
   "execution_count": 12,
   "metadata": {},
   "outputs": [
    {
     "data": {
      "text/latex": [
       "$\\displaystyle m_{1} \\left(\\frac{d^{2}}{d t_{0}^{2}} x_{1 2}{\\left(t_{0} \\right)}\\right)^{2}$"
      ],
      "text/plain": [
       "m_1*Derivative(x_1_2(t_0), (t_0, 2))**2"
      ]
     },
     "execution_count": 12,
     "metadata": {},
     "output_type": "execute_result"
    }
   ],
   "source": [
    "sympify(KK.parse_exp_to_sympy_str(sentence.parse_exp(\"m[1]*x[1,2]''**2\"), \"t_0\"))"
   ]
  },
  {
   "cell_type": "code",
   "execution_count": 1,
   "metadata": {},
   "outputs": [],
   "source": [
    "from main import Theorist\n",
    "\n",
    "theorist = Theorist()"
   ]
  },
  {
   "cell_type": "code",
   "execution_count": 3,
   "metadata": {},
   "outputs": [
    {
     "name": "stdout",
     "output_type": "stream",
     "text": [
      "R_01 conserved: D[t[0]]/D[posx[1]] = 1/Derivative(posx_1(t_0), t_0)\n",
      "R_02 conserved: D[posx[1]]/D[t[0]] = Derivative(posx_1(t_0), t_0)\n"
     ]
    }
   ],
   "source": [
    "theorist.theoretical_analysis(\"motion0\")\n",
    "theorist.specific[\"motion0\"].print_sympy_conclusion()"
   ]
  },
  {
   "cell_type": "code",
   "execution_count": 15,
   "metadata": {},
   "outputs": [
    {
     "data": {
      "text/plain": [
       "[('R_02', 1/Derivative(posx_1(t_0), (t_0, 2))),\n",
       " ('R_01', Derivative(posx_1(t_0), (t_0, 2)))]"
      ]
     },
     "execution_count": 15,
     "metadata": {},
     "output_type": "execute_result"
    }
   ],
   "source": [
    "theorist.theoretical_analysis(\"motion\")\n",
    "theorist.specific[\"motion\"].list_sympy_conclusion()"
   ]
  },
  {
   "cell_type": "code",
   "execution_count": 16,
   "metadata": {},
   "outputs": [
    {
     "data": {
      "text/plain": [
       "[('R_07', posr_2(t_0)/posx_1(t_0)),\n",
       " ('R_02', posx_1(t_0)/posr_2(t_0)),\n",
       " ('R_03', Derivative(posx_1(t_0), t_0)/Derivative(posr_2(t_0), t_0)),\n",
       " ('R_08', Derivative(posr_2(t_0), t_0)/Derivative(posx_1(t_0), t_0)),\n",
       " ('R_09', Derivative(posr_2(t_0), t_0)/Derivative(posx_1(t_0), (t_0, 3))),\n",
       " ('R_04', Derivative(posx_1(t_0), (t_0, 3))/Derivative(posx_1(t_0), t_0)),\n",
       " ('R_01', Derivative(posx_1(t_0), t_0)/Derivative(posx_1(t_0), (t_0, 3))),\n",
       " ('R_05', Derivative(posx_1(t_0), (t_0, 3))/Derivative(posr_2(t_0), t_0)),\n",
       " ('R_06', posr_2(t_0) - posx_1(t_0))]"
      ]
     },
     "execution_count": 16,
     "metadata": {},
     "output_type": "execute_result"
    }
   ],
   "source": [
    "theorist.theoretical_analysis(\"oscillation\")\n",
    "theorist.specific[\"oscillation\"].list_sympy_conclusion()"
   ]
  },
  {
   "cell_type": "code",
   "execution_count": 17,
   "metadata": {},
   "outputs": [
    {
     "data": {
      "text/plain": [
       "[]"
      ]
     },
     "execution_count": 17,
     "metadata": {},
     "output_type": "execute_result"
    }
   ],
   "source": [
    "theorist.theoretical_analysis(\"collision\")\n",
    "theorist.specific[\"collision\"].list_sympy_conclusion()"
   ]
  },
  {
   "cell_type": "code",
   "execution_count": null,
   "metadata": {},
   "outputs": [],
   "source": []
  }
 ],
 "metadata": {
  "kernelspec": {
   "display_name": "aiphysicist",
   "language": "python",
   "name": "python3"
  },
  "language_info": {
   "codemirror_mode": {
    "name": "ipython",
    "version": 3
   },
   "file_extension": ".py",
   "mimetype": "text/x-python",
   "name": "python",
   "nbconvert_exporter": "python",
   "pygments_lexer": "ipython3",
   "version": "3.10.0"
  }
 },
 "nbformat": 4,
 "nbformat_minor": 2
}
