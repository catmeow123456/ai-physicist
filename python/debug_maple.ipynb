{
 "cells": [
  {
   "cell_type": "code",
   "execution_count": 1,
   "metadata": {},
   "outputs": [],
   "source": [
    "from diffalg.diffalg import diffalg, DifferentialRing\n",
    "import sympy as sp"
   ]
  },
  {
   "cell_type": "code",
   "execution_count": 2,
   "metadata": {},
   "outputs": [],
   "source": [
    "t0 = sp.Symbol('t0')\n",
    "posx = sp.Function('posx')(t0)\n",
    "posr = sp.Function('posr')(t0)\n",
    "a = posx.diff(t0).diff(t0)\n",
    "c04 = 1/a\n",
    "c16 = sp.Symbol('c16')\n",
    "c15 = sp.Symbol('c15')"
   ]
  },
  {
   "cell_type": "code",
   "execution_count": 3,
   "metadata": {},
   "outputs": [],
   "source": [
    "P1 = sp.Symbol('P1')\n",
    "P2 = sp.Symbol('P2')\n",
    "P3 = sp.Symbol('P3')\n",
    "P4 = sp.Symbol('P4')"
   ]
  },
  {
   "cell_type": "code",
   "execution_count": 4,
   "metadata": {},
   "outputs": [],
   "source": [
    "ring = DifferentialRing([('lex', [posr, posx, P4]),\n",
    "                         ('lex', [P2, P1]),\n",
    "                         ('lex', [c15, c16, P3])])"
   ]
  },
  {
   "cell_type": "code",
   "execution_count": 5,
   "metadata": {},
   "outputs": [],
   "source": [
    "eq3 = posr - posx\n",
    "eq2 = -P3 + a.diff(t0) / posx.diff(t0)\n",
    "eq1 = -c15*posx+c16*a - P2\n",
    "eq = (c16*c04).diff(t0) / (c04*posx).diff(t0) - P1\n",
    "eq0 = (c16*c04).diff(t0) / (c04*posr).diff(t0) - P4\n",
    "ideal = diffalg.from_eqs(ring, [eq3, eq2, eq1, eq, eq0], [P2, P1, c15, c16, P3, P4])"
   ]
  },
  {
   "cell_type": "code",
   "execution_count": 6,
   "metadata": {},
   "outputs": [
    {
     "name": "stdout",
     "output_type": "stream",
     "text": [
      "-P1 + P4\n"
     ]
    }
   ],
   "source": [
    "print(ideal.gb[0].gb[2])"
   ]
  },
  {
   "cell_type": "code",
   "execution_count": 7,
   "metadata": {},
   "outputs": [],
   "source": [
    "eq = ((c16*c04).diff(t0) / (c04*posx).diff(t0))"
   ]
  },
  {
   "cell_type": "code",
   "execution_count": 8,
   "metadata": {},
   "outputs": [
    {
     "data": {
      "text/latex": [
       "$\\displaystyle \\frac{P_{1}^{3} P_{3}^{3} c_{16} \\operatorname{posx}^{2}{\\left(t_{0} \\right)} \\frac{d}{d t_{0}} \\operatorname{posx}{\\left(t_{0} \\right)} - 2 P_{1}^{2} P_{3}^{3} c_{16}^{2} \\operatorname{posx}{\\left(t_{0} \\right)} \\frac{d}{d t_{0}} \\operatorname{posx}{\\left(t_{0} \\right)} + P_{1} P_{3}^{3} c_{16}^{3} \\frac{d}{d t_{0}} \\operatorname{posx}{\\left(t_{0} \\right)}}{P_{1}^{2} P_{3}^{3} c_{16} \\operatorname{posx}^{2}{\\left(t_{0} \\right)} \\frac{d}{d t_{0}} \\operatorname{posx}{\\left(t_{0} \\right)} - 2 P_{1} P_{3}^{3} c_{16}^{2} \\operatorname{posx}{\\left(t_{0} \\right)} \\frac{d}{d t_{0}} \\operatorname{posx}{\\left(t_{0} \\right)} + P_{3}^{3} c_{16}^{3} \\frac{d}{d t_{0}} \\operatorname{posx}{\\left(t_{0} \\right)}}$"
      ],
      "text/plain": [
       "(P1**3*P3**3*c16*posx(t0)**2*Derivative(posx(t0), t0) - 2*P1**2*P3**3*c16**2*posx(t0)*Derivative(posx(t0), t0) + P1*P3**3*c16**3*Derivative(posx(t0), t0))/(P1**2*P3**3*c16*posx(t0)**2*Derivative(posx(t0), t0) - 2*P1*P3**3*c16**2*posx(t0)*Derivative(posx(t0), t0) + P3**3*c16**3*Derivative(posx(t0), t0))"
      ]
     },
     "execution_count": 8,
     "metadata": {},
     "output_type": "execute_result"
    }
   ],
   "source": [
    "ideal.gb[0].reduce(eq)"
   ]
  },
  {
   "cell_type": "code",
   "execution_count": 9,
   "metadata": {},
   "outputs": [
    {
     "data": {
      "text/latex": [
       "$\\displaystyle P_{1}$"
      ],
      "text/plain": [
       "P1"
      ]
     },
     "execution_count": 9,
     "metadata": {},
     "output_type": "execute_result"
    }
   ],
   "source": [
    "ideal.reduce(eq)"
   ]
  },
  {
   "cell_type": "code",
   "execution_count": 10,
   "metadata": {},
   "outputs": [
    {
     "data": {
      "text/latex": [
       "$\\displaystyle P_{1}$"
      ],
      "text/plain": [
       "P1"
      ]
     },
     "execution_count": 10,
     "metadata": {},
     "output_type": "execute_result"
    }
   ],
   "source": [
    "ideal.gb[0].reduce(P4)"
   ]
  },
  {
   "cell_type": "code",
   "execution_count": 1,
   "metadata": {},
   "outputs": [],
   "source": [
    "from diffalg.diffalg import diffalg, DifferentialRing\n",
    "import sympy as sp\n",
    "t0 = sp.Symbol('t0')\n",
    "posl = sp.Function('posl')(t0)\n",
    "posx = sp.Function('posx')(t0)\n",
    "posr = sp.Function('posr')(t0)\n",
    "a = posx.diff(t0).diff(t0)\n",
    "c04 = 1/a\n",
    "c16 = sp.Symbol('c16')\n",
    "c15 = sp.Symbol('c15')\n",
    "P1 = sp.Symbol('P1')\n",
    "P2 = sp.Symbol('P2')\n",
    "P3 = sp.Symbol('P3')\n",
    "ring = DifferentialRing([('lex', [posl, posr, posx]),\n",
    "                         ('lex', [P2, P1]),\n",
    "                         ('lex', [c15, c16, P3])])\n",
    "eq0 = posl - P1\n",
    "eq3 = posr - posx\n",
    "eq2 = -P2 + a.diff(t0) / posx.diff(t0)\n",
    "eq1 = -c15*posx+c16*a - P3\n",
    "ideal = diffalg.from_eqs(ring, [eq0, eq3, eq2, eq1], [P2, P1, c15, c16, P3])\n",
    "eq = (posx * c04).diff(t0) / c04.diff(t0)"
   ]
  },
  {
   "cell_type": "code",
   "execution_count": 2,
   "metadata": {},
   "outputs": [
    {
     "data": {
      "text/latex": [
       "$\\displaystyle - \\frac{P_{3}}{c_{15}}$"
      ],
      "text/plain": [
       "-P3/c15"
      ]
     },
     "execution_count": 2,
     "metadata": {},
     "output_type": "execute_result"
    }
   ],
   "source": [
    "ideal.reduce(eq)"
   ]
  },
  {
   "cell_type": "code",
   "execution_count": null,
   "metadata": {},
   "outputs": [],
   "source": []
  },
  {
   "cell_type": "code",
   "execution_count": null,
   "metadata": {},
   "outputs": [],
   "source": []
  },
  {
   "cell_type": "code",
   "execution_count": 2,
   "metadata": {},
   "outputs": [],
   "source": [
    "P1 = sp.Symbol('P1')\n",
    "t0 = sp.Symbol('t0')\n",
    "posl2 = sp.Function('posl2')(t0)\n",
    "posr2 = sp.Function('posr2')(t0)\n",
    "posx1 = sp.Function('posx1')(t0)\n",
    "C151 = sp.Symbol('C151')"
   ]
  },
  {
   "cell_type": "code",
   "execution_count": 3,
   "metadata": {},
   "outputs": [],
   "source": [
    "ring = DifferentialRing([('lex', [posl2, posr2, posx1]),\n",
    "                         ('lex', [P1]),\n",
    "                         ('lex', [C151])])"
   ]
  },
  {
   "cell_type": "code",
   "execution_count": 4,
   "metadata": {},
   "outputs": [],
   "source": [
    "eq1 = -P1 + posl2\n",
    "eq2 = posr2 - posx1\n",
    "eq3 = C151 * (-posr2 + posx1)\n",
    "ideal = diffalg.from_eqs(ring, eqs=[eq1, eq2])"
   ]
  },
  {
   "cell_type": "code",
   "execution_count": 5,
   "metadata": {},
   "outputs": [
    {
     "name": "stdout",
     "output_type": "stream",
     "text": [
      "DifferentialAlgebra:\n",
      "[-P1 + posl2(t0), posr2(t0) - posx1(t0)]\n"
     ]
    }
   ],
   "source": [
    "print(ideal)"
   ]
  },
  {
   "cell_type": "code",
   "execution_count": 6,
   "metadata": {},
   "outputs": [
    {
     "data": {
      "text/plain": [
       "True"
      ]
     },
     "execution_count": 6,
     "metadata": {},
     "output_type": "execute_result"
    }
   ],
   "source": [
    "ideal.belongs_to(eq3)"
   ]
  },
  {
   "cell_type": "code",
   "execution_count": 7,
   "metadata": {},
   "outputs": [
    {
     "data": {
      "text/latex": [
       "$\\displaystyle 0$"
      ],
      "text/plain": [
       "0"
      ]
     },
     "execution_count": 7,
     "metadata": {},
     "output_type": "execute_result"
    }
   ],
   "source": [
    "ideal.reduce(eq3)"
   ]
  },
  {
   "cell_type": "code",
   "execution_count": null,
   "metadata": {},
   "outputs": [],
   "source": []
  }
 ],
 "metadata": {
  "kernelspec": {
   "display_name": "aiphy",
   "language": "python",
   "name": "python3"
  },
  "language_info": {
   "codemirror_mode": {
    "name": "ipython",
    "version": 3
   },
   "file_extension": ".py",
   "mimetype": "text/x-python",
   "name": "python",
   "nbconvert_exporter": "python",
   "pygments_lexer": "ipython3",
   "version": "3.12.4"
  }
 },
 "nbformat": 4,
 "nbformat_minor": 2
}
