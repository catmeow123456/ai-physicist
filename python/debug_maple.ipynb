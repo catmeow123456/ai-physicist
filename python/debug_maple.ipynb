{
 "cells": [
  {
   "cell_type": "code",
   "execution_count": 1,
   "metadata": {},
   "outputs": [],
   "source": [
    "from diffalg.diffalg import diffalg, DifferentialRing\n",
    "import sympy as sp"
   ]
  },
  {
   "cell_type": "code",
   "execution_count": 2,
   "metadata": {},
   "outputs": [],
   "source": [
    "P1 = sp.Symbol('P1')\n",
    "t0 = sp.Symbol('t0')\n",
    "posl2 = sp.Function('posl2')(t0)\n",
    "posr2 = sp.Function('posr2')(t0)\n",
    "posx1 = sp.Function('posx1')(t0)\n",
    "C151 = sp.Symbol('C151')"
   ]
  },
  {
   "cell_type": "code",
   "execution_count": 3,
   "metadata": {},
   "outputs": [],
   "source": [
    "ring = DifferentialRing([('lex', [posl2, posr2, posx1]),\n",
    "                         ('lex', [P1]),\n",
    "                         ('lex', [C151])])"
   ]
  },
  {
   "cell_type": "code",
   "execution_count": 4,
   "metadata": {},
   "outputs": [
    {
     "name": "stdout",
     "output_type": "stream",
     "text": [
      "with (DifferentialAlgebra);\n",
      "R := DifferentialRing(blocks = [lex[posl2,posr2,posx1], lex[P1]], derivations = [t0]);\n",
      "eqs := [((-1) * (P1)) + (posl2(t0)), ((-1) * (posx1(t0))) + (posr2(t0))];\n",
      "ideal := RosenfeldGroebner(eqs, R);\n",
      "print(Equations(ideal))\n"
     ]
    }
   ],
   "source": [
    "eq1 = -P1 + posl2\n",
    "eq2 = posr2 - posx1\n",
    "eq3 = C151 * (-posr2 + posx1)\n",
    "ideal = diffalg.from_eqs(ring, eqs=[eq1, eq2])"
   ]
  },
  {
   "cell_type": "code",
   "execution_count": 5,
   "metadata": {},
   "outputs": [
    {
     "name": "stdout",
     "output_type": "stream",
     "text": [
      "DifferentialAlgebra:\n",
      "[-P1 + posl2(t0), posr2(t0) - posx1(t0)]\n"
     ]
    }
   ],
   "source": [
    "print(ideal)"
   ]
  },
  {
   "cell_type": "code",
   "execution_count": 6,
   "metadata": {},
   "outputs": [
    {
     "name": "stdout",
     "output_type": "stream",
     "text": [
      "with (DifferentialAlgebra);\n",
      "with (Tools);\n",
      "R := DifferentialRing(blocks = [[posl2(t0),posr2(t0),posx1(t0)], [P1()], [C151()]], derivations = [t0]);\n",
      "ideal := [PretendRegularDifferentialChain([((-1) * (P1())) + (posl2(t0)), ((-1) * (posx1(t0))) + (posr2(t0))], R)];\n",
      "print(BelongsTo([(C151()) * (((-1) * (posr2(t0))) + (posx1(t0)))], ideal))\n"
     ]
    },
    {
     "data": {
      "text/plain": [
       "True"
      ]
     },
     "execution_count": 6,
     "metadata": {},
     "output_type": "execute_result"
    }
   ],
   "source": [
    "ideal.belongs_to(eq3)"
   ]
  },
  {
   "cell_type": "code",
   "execution_count": null,
   "metadata": {},
   "outputs": [],
   "source": []
  }
 ],
 "metadata": {
  "kernelspec": {
   "display_name": "aiphy",
   "language": "python",
   "name": "python3"
  },
  "language_info": {
   "codemirror_mode": {
    "name": "ipython",
    "version": 3
   },
   "file_extension": ".py",
   "mimetype": "text/x-python",
   "name": "python",
   "nbconvert_exporter": "python",
   "pygments_lexer": "ipython3",
   "version": "3.12.4"
  }
 },
 "nbformat": 4,
 "nbformat_minor": 2
}
